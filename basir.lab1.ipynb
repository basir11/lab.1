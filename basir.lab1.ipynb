{
 "cells": [
  {
   "cell_type": "code",
   "execution_count": 13,
   "id": "4fe9feca",
   "metadata": {},
   "outputs": [
    {
     "name": "stdout",
     "output_type": "stream",
     "text": [
      "Ответ выигрыш игрока A в ситуации H(P,Q) = 5.231\n",
      "Ответ выигрыш игрока A в ситуации H(Q,A1) = 12.0\n",
      "Ответ выигрыш игрока A в ситуации H(Q,A2) = 8.5\n",
      "Ответ выигрыш игрока A в ситуации H(Q,A3) = 6.1000000000000005\n",
      "Ответ выигрыш игрока A в ситуации H(Q,A4) = 1.3499999999999999\n",
      "Ответ выигрыш игрока A в ситуации H(Q,A5) = 10.549999999999999\n",
      "Ответ выигрыш игрока B в ситуации H(P,Q) = 5.231\n",
      "Ответ выигрыш игрока B в ситуации H(Q,A1) = 12.0\n",
      "Ответ выигрыш игрока B в ситуации H(Q,A2) = 8.5\n",
      "Ответ выигрыш игрока B в ситуации H(Q,A3) = 6.1000000000000005\n",
      "Ответ выигрыш игрока B в ситуации H(Q,A4) = 1.3499999999999999\n",
      "Ответ выигрыш игрока B в ситуации H(Q,A5) = 10.549999999999999\n",
      "Ответ выигрыш игрока B в ситуации H(P,B1) = 0.76\n",
      "Ответ выигрыш игрока B в ситуации H(P,B2) = 4.859999999999999\n",
      "Ответ выигрыш игрока B в ситуации H(P,B3) = 5.180000000000001\n",
      "Ответ выигрыш игрока B в ситуации H(P,B4) = 4.140000000000001\n",
      "Ответ выигрыш игрока B в ситуации H(P,B5) = 5.24\n"
     ]
    }
   ],
   "source": [
    "import numpy as np\n",
    "matrix = np.array(\n",
    "    [\n",
    "        [2,10,12,0,12],\n",
    "        [3,12,0,6,10],\n",
    "        [12,8,1,1,7],\n",
    "        [6,10,9,3,0],\n",
    "        [4,8,8,6,11]\n",
    "    ]\n",
    ")\n",
    "q= [0.38, 0.0, 0.0, 0.62, 0.0]\n",
    "\n",
    "p= [0.0, 0.0, 0.15, 0.0, 0.85]\n",
    "answer = {}\n",
    "\n",
    "lower_price = max([min(x) for x in matrix])\n",
    "upper_price = min([max(x) for x in np.rot90(matrix)])\n",
    "\n",
    "if lower_price==upper_price:\n",
    "    print(\"седловая точка есть\", \"ответ v={}\".format(lower_price))\n",
    "else:\n",
    "    buff=0\n",
    "    \n",
    "    for i,pin in zip(matrix,p):\n",
    "        buff+=pin*sum([x*y for x,y in zip(i,q)])\n",
    "    answer[\"H(P,Q)\"]=buff\n",
    "    \n",
    "    for k, i  in enumerate((matrix),1):\n",
    "        answer[\"H(Q,A{})\".format(k)]=sum([x*y for x,y in zip(i,p)])\n",
    "\n",
    "\n",
    "for i in [(x,y) for x,y in answer.items()]:\n",
    "    print(\"Ответ выигрыш игрока A в ситуации {0[0]} = {0[1]}\".format(i))\n",
    "    for k, i  in enumerate((matrix),1):\n",
    "        answer[\"H(P,B{})\".format(k)]=sum([x*y for x,y in zip(i,q)])\n",
    "\n",
    "for i in [(x,y) for x,y in answer.items()]:\n",
    "  print(\"Ответ выигрыш игрока B в ситуации {0[0]} = {0[1]}\".format(i))"
   ]
  },
  {
   "cell_type": "code",
   "execution_count": 18,
   "id": "e282e0e2",
   "metadata": {
    "scrolled": true
   },
   "outputs": [],
   "source": [
    "from cvxopt.modeling import variable, op\n",
    "import time\n",
    "start = time.time()\n",
    "x = variable(25, 'x')\n",
    "\n",
    "c= [3,4,5,4,6,1,5,7,1,5,4,6,6,3,4,2,7,4,7,2,1,9,6,3,2]\n",
    "\n",
    "z = sum( [ c[i]*x[i] for i in range(25) ] )\n",
    "\n",
    "mass1 = (x[0] + x[1] + x[2] + x[3] + x[4] <= 50)\n",
    "mass2 = (x[5] + x[6] + x[7] + x[8] + x[9] <= 100)\n",
    "mass3 = (x[10] + x[11] + x[12] + x[13] + x[14] <= 150)\n",
    "mass4 = (x[15] + x[16] + x[17] + x[18] + x[19] <= 100)\n",
    "mass5 = (x[20] + x[21] + x[22] + x[23] + x[24] <= 100)\n",
    "\n",
    "mass6 = (x[0] + x[5] + x[10] + x[15] + x[20] == 100)\n",
    "mass7 = (x[1] + x[6] + x[11] + x[16] + x[21] == 100)\n",
    "mass8 = (x[2] + x[7] + x[12] + x[17] + x[22] == 100)\n",
    "mass9 = (x[3] + x[8] + x[13] + x[18] + x[23] == 100)\n",
    "mass10 = (x[4] + x[9] + x[14] + x[19] + x[24] == 100)\n",
    "x_non_negative = (x >= 0)    \n",
    "\n",
    "problem = op(z, [mass1, mass2, mass3, mass4, mass5, mass6, mass7, mass8, mass9, mass10, x_non_negative] )\n",
    "problem.solve(solver='glpk')"
   ]
  },
  {
   "cell_type": "code",
   "execution_count": 19,
   "id": "6560bf42",
   "metadata": {},
   "outputs": [
    {
     "name": "stdout",
     "output_type": "stream",
     "text": [
      "Результат Xopt:\n",
      "0.0\n",
      "50.0\n",
      "0.0\n",
      "0.0\n",
      "0.0\n",
      "100.0\n",
      "0.0\n",
      "0.0\n",
      "0.0\n",
      "0.0\n",
      "0.0\n",
      "50.0\n",
      "0.0\n",
      "100.0\n",
      "0.0\n",
      "0.0\n",
      "0.0\n",
      "100.0\n",
      "0.0\n",
      "0.0\n",
      "0.0\n",
      "0.0\n",
      "0.0\n",
      "0.0\n",
      "100.0\n",
      "Стоимость доставки:\n",
      "1500.0\n",
      "Время :\n",
      "0.2911350727081299\n"
     ]
    }
   ],
   "source": [
    "print(\"Результат Xopt:\")\n",
    "for i in x.value:\n",
    "         print(i)\n",
    "print(\"Стоимость доставки:\")\n",
    "print(problem.objective.value()[0])\n",
    "stop = time.time()\n",
    "print (\"Время :\")\n",
    "print(stop - start)"
   ]
  },
  {
   "cell_type": "code",
   "execution_count": null,
   "id": "6dc01f63",
   "metadata": {},
   "outputs": [],
   "source": []
  }
 ],
 "metadata": {
  "kernelspec": {
   "display_name": "Python 3 (ipykernel)",
   "language": "python",
   "name": "python3"
  },
  "language_info": {
   "codemirror_mode": {
    "name": "ipython",
    "version": 3
   },
   "file_extension": ".py",
   "mimetype": "text/x-python",
   "name": "python",
   "nbconvert_exporter": "python",
   "pygments_lexer": "ipython3",
   "version": "3.9.9"
  }
 },
 "nbformat": 4,
 "nbformat_minor": 5
}
